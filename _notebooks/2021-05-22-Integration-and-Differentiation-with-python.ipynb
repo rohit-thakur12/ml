{
 "cells": [
  {
   "cell_type": "markdown",
   "id": "9a8223e0-e231-4b80-abd5-921cfd8053e3",
   "metadata": {},
   "source": [
    "# \"Differentiation and Integration with SymPy\"\n",
    "> \"Differentiation and Integration are some of the most important topics in maths. This post walks through how python can be used to solve these kinds of problems.\"\n",
    "\n",
    " - toc:false\n",
    " - badges: true\n",
    " - comments: true\n",
    " - author: Rohit Thakur\n",
    " - categories: [maths, calculus]"
   ]
  },
  {
   "cell_type": "markdown",
   "id": "fee76449-6929-4c1d-a3bb-3ef0da4e0d1e",
   "metadata": {},
   "source": [
    "Differentiation and Integration and the building blocks of calculus. They are usually taught in Calculus I. \n",
    "These two concept are heavily used in alot of fields, including machine learning. \n",
    "\n",
    "If you don't remember, here is a high level introduction of what these two concepts are:\n",
    "\n",
    "Differentiation (also called derivation) measures the rate of change of a function. Think of it like calculating slope in linear models. Only difference here is that you can calculate the slope at every point and for functions that are non linear. \n",
    "For Example: if `f(x) = x**2` then, the derivative of this function is `f'(x) = 2x`. The derivative function is read \"f prime of x\".\n",
    "\n",
    "Intergration on the other hand measures the area under the curve. \n",
    "For the above function, the integration or often called antiderivative will be `x**3 / 3`\n",
    "\n",
    "<img src=\"https://images.saymedia-content.com/.image/c_limit%2Ccs_srgb%2Cq_auto:good%2Cw_940/MTc0NDkxNjU2MTk5MTUzMDAw/how-to-understand-calculus-a-beginners-guide-to-integration.webp\" width=\"400\">"
   ]
  },
  {
   "cell_type": "markdown",
   "id": "6d4e31d4-01ce-4cc5-8640-3a1e9abe56ee",
   "metadata": {},
   "source": [
    "Calculating Derivatives and Integrals is sometimes confusing so we'll use [SymPy](https://www.sympy.org/en/index.html). \n",
    "We will start by installing the library. "
   ]
  },
  {
   "cell_type": "code",
   "execution_count": 1,
   "id": "02e841c0-55f5-4da7-bc9c-c6372dbb0485",
   "metadata": {},
   "outputs": [
    {
     "name": "stdout",
     "output_type": "stream",
     "text": [
      "Requirement already satisfied: sympy in c:\\users\\rohit\\miniconda3\\envs\\math\\lib\\site-packages (1.8)\n",
      "Requirement already satisfied: mpmath>=0.19 in c:\\users\\rohit\\miniconda3\\envs\\math\\lib\\site-packages (from sympy) (1.2.1)\n"
     ]
    }
   ],
   "source": [
    "#collapse-output\n",
    "!pip install sympy"
   ]
  },
  {
   "cell_type": "markdown",
   "id": "fa023bba-197a-4523-bc4e-873d4c9393b7",
   "metadata": {},
   "source": [
    "Next we import everything."
   ]
  },
  {
   "cell_type": "code",
   "execution_count": 3,
   "id": "0817252c-91d6-49d1-b9f6-e229b1debb7c",
   "metadata": {},
   "outputs": [],
   "source": [
    "from sympy import *"
   ]
  },
  {
   "cell_type": "markdown",
   "id": "cfdc0933-7195-4981-9baf-a619c87de77e",
   "metadata": {},
   "source": [
    "Since we will be calculating for `x`, we'll have to create a symbol for it. "
   ]
  },
  {
   "cell_type": "code",
   "execution_count": 4,
   "id": "3c77e428-b38c-4e39-821c-d5909bd25682",
   "metadata": {},
   "outputs": [],
   "source": [
    "x = Symbol('x')"
   ]
  },
  {
   "cell_type": "markdown",
   "id": "ba71ed71-2963-4196-9f83-f50559ed222c",
   "metadata": {},
   "source": [
    "Lets start by writing our function"
   ]
  },
  {
   "cell_type": "code",
   "execution_count": 14,
   "id": "f7196e3d-5dd5-4bda-9b08-b97e3b6753e4",
   "metadata": {},
   "outputs": [
    {
     "data": {
      "text/latex": [
       "$\\displaystyle 2 x^{3} + 6$"
      ],
      "text/plain": [
       "2*x**3 + 6"
      ]
     },
     "execution_count": 14,
     "metadata": {},
     "output_type": "execute_result"
    }
   ],
   "source": [
    "f = 2*x**3+6\n",
    "f"
   ]
  },
  {
   "cell_type": "markdown",
   "id": "9feeabee-a620-4360-ab0a-2db171750dad",
   "metadata": {},
   "source": [
    "Now we calculate the derivative of the function using sympy."
   ]
  },
  {
   "cell_type": "code",
   "execution_count": 13,
   "id": "8cf77b1e-c836-47db-8157-b5d82899cf43",
   "metadata": {},
   "outputs": [
    {
     "data": {
      "text/latex": [
       "$\\displaystyle 6 x^{2}$"
      ],
      "text/plain": [
       "6*x**2"
      ]
     },
     "execution_count": 13,
     "metadata": {},
     "output_type": "execute_result"
    }
   ],
   "source": [
    "f_prime = f.diff(x)\n",
    "f_prime"
   ]
  },
  {
   "cell_type": "markdown",
   "id": "66c8a6f7-9dd8-44ad-9106-bdbef3342187",
   "metadata": {},
   "source": [
    "So now we have the derivative of our function. Lets calculate the integral. "
   ]
  },
  {
   "cell_type": "code",
   "execution_count": 17,
   "id": "c19caf13-fa7c-4b7f-835c-b2d11893ecb1",
   "metadata": {},
   "outputs": [
    {
     "data": {
      "text/latex": [
       "$\\displaystyle 2 x^{3}$"
      ],
      "text/plain": [
       "2*x**3"
      ]
     },
     "execution_count": 17,
     "metadata": {},
     "output_type": "execute_result"
    }
   ],
   "source": [
    "f_int = integrate(f_prime, x)\n",
    "f_int"
   ]
  },
  {
   "cell_type": "markdown",
   "id": "ac0ccf23-c652-4cc3-a071-89f07b3cb9ee",
   "metadata": {},
   "source": [
    "So this is how we calculate both the derivative and anti-derivative of a function using sympy. There are other libraries as well that work really well,\n",
    "e.g scipy. "
   ]
  },
  {
   "cell_type": "code",
   "execution_count": null,
   "id": "75926ba6-ae8b-4772-bb61-ce49e6b09d12",
   "metadata": {},
   "outputs": [],
   "source": []
  }
 ],
 "metadata": {
  "kernelspec": {
   "display_name": "Python 3",
   "language": "python",
   "name": "python3"
  },
  "language_info": {
   "codemirror_mode": {
    "name": "ipython",
    "version": 3
   },
   "file_extension": ".py",
   "mimetype": "text/x-python",
   "name": "python",
   "nbconvert_exporter": "python",
   "pygments_lexer": "ipython3",
   "version": "3.8.10"
  }
 },
 "nbformat": 4,
 "nbformat_minor": 5
}
